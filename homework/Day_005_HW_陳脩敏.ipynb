{
 "cells": [
  {
   "cell_type": "code",
   "execution_count": 35,
   "metadata": {},
   "outputs": [],
   "source": [
    "import numpy as np\n",
    "\n",
    "english_score = np.array([55,89,76,65,48,70])\n",
    "math_score = np.array([60,85,60,68,np.nan,60])\n",
    "chinese_score = np.array([65,90,82,72,66,77])\n"
   ]
  },
  {
   "cell_type": "code",
   "execution_count": 36,
   "metadata": {},
   "outputs": [
    {
     "name": "stdout",
     "output_type": "stream",
     "text": [
      "英文平均： 67.16666666666667\n",
      "數學平均： 66.6\n",
      "國文平均： 75.33333333333333\n",
      "英文最高分： 89\n",
      "數學最高分： 85.0\n",
      "國文最高分： 90\n",
      "英文最低分： 48\n",
      "數學最低分： 60.0\n",
      "國文最低分： 65\n",
      "英文標準差： 13.433995020924426\n",
      "數學標準差： 9.707728879609279\n",
      "國文標準差： 8.825468196582484\n"
     ]
    }
   ],
   "source": [
    "#1. 請計算各科成績平均、最大值、最小值、標準差，其中數學缺一筆資料可忽略?\n",
    "\n",
    "eng_mean = np.mean(english_score)\n",
    "math_mean = np.nanmean(math_score)\n",
    "ch_mean = np.mean(chinese_score)\n",
    "print(\"英文平均：\",eng_mean)\n",
    "print(\"數學平均：\",math_mean)\n",
    "print(\"國文平均：\",ch_mean)\n",
    "\n",
    "eng_max = np.amax(english_score)\n",
    "math_max = np.nanmax(math_score)\n",
    "ch_max = np.amax(chinese_score)\n",
    "\n",
    "print(\"英文最高分：\",eng_max)\n",
    "print(\"數學最高分：\",math_max)\n",
    "print(\"國文最高分：\",ch_max)\n",
    "\n",
    "eng_min = np.amin(english_score)\n",
    "math_min = np.nanmin(math_score)\n",
    "ch_min = np.amin(chinese_score)\n",
    "\n",
    "print(\"英文最低分：\",eng_min)\n",
    "print(\"數學最低分：\",math_min)\n",
    "print(\"國文最低分：\",ch_min)\n",
    "\n",
    "eng_sd = np.std(english_score)\n",
    "math_sd = np.nanstd(math_score)\n",
    "ch_sd = np.std(chinese_score)\n",
    "\n",
    "print(\"英文標準差：\",eng_sd)\n",
    "print(\"數學標準差：\",math_sd)\n",
    "print(\"國文標準差：\",ch_sd)"
   ]
  },
  {
   "cell_type": "code",
   "execution_count": 37,
   "metadata": {},
   "outputs": [
    {
     "name": "stdout",
     "output_type": "stream",
     "text": [
      "64.66666666666667 85 55 9.860132971832694\n"
     ]
    }
   ],
   "source": [
    "#2. 第五位同學補考數學後成績為55，請計算補考後數學成績平均、最大值、最小值、標準差?\n",
    "math_score_nw = np.array([60,85,60,68,55,60])\n",
    "math_mean = np.nanmean(math_score_nw)\n",
    "math_max = np.nanmax(math_score_nw)\n",
    "math_min = np.nanmin(math_score_nw)\n",
    "math_sd = np.nanstd(math_score_nw)\n",
    "print(math_mean,math_max, math_min, math_sd)"
   ]
  },
  {
   "cell_type": "code",
   "execution_count": 50,
   "metadata": {},
   "outputs": [
    {
     "name": "stdout",
     "output_type": "stream",
     "text": [
      "[[1.         0.97792828]\n",
      " [0.97792828 1.        ]]\n",
      "[[1.         0.74056803]\n",
      " [0.74056803 1.        ]]\n",
      "[[1.         0.97792828]\n",
      " [0.97792828 1.        ]]\n"
     ]
    }
   ],
   "source": [
    "#3. 用補考後資料找出與國文成績相關係數最高的學科?\n",
    "ch_en = np.array([chinese_score, english_score])\n",
    "ch_en\n",
    "print(np.corrcoef(ch_en))\n",
    "\n",
    "ch_ma = np.array([chinese_score, math_score_nw])\n",
    "print(np.corrcoef(ch_ma))\n",
    "print(np.fmax(np.corrcoef(ch_en), np.corrcoef(ch_ma)))\n"
   ]
  },
  {
   "cell_type": "code",
   "execution_count": null,
   "metadata": {},
   "outputs": [],
   "source": []
  }
 ],
 "metadata": {
  "kernelspec": {
   "display_name": "Python 3",
   "language": "python",
   "name": "python3"
  },
  "language_info": {
   "codemirror_mode": {
    "name": "ipython",
    "version": 3
   },
   "file_extension": ".py",
   "mimetype": "text/x-python",
   "name": "python",
   "nbconvert_exporter": "python",
   "pygments_lexer": "ipython3",
   "version": "3.8.3"
  }
 },
 "nbformat": 4,
 "nbformat_minor": 4
}
