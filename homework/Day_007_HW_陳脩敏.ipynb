{
 "cells": [
  {
   "cell_type": "code",
   "execution_count": 1,
   "metadata": {},
   "outputs": [],
   "source": [
    "import numpy as np"
   ]
  },
  {
   "cell_type": "code",
   "execution_count": 10,
   "metadata": {},
   "outputs": [
    {
     "name": "stdout",
     "output_type": "stream",
     "text": [
      "[[ 0.19230769 -0.30769231]\n",
      " [-0.11538462  0.38461538]]\n",
      "[[1. 0.]\n",
      " [0. 1.]]\n"
     ]
    }
   ],
   "source": [
    "#1. 運用上列array計算反矩陣，乘上原矩陣，並觀察是否為單位矩陣?\n",
    "array1 = np.array([[10, 8], [3, 5]])\n",
    "array2 = np.linalg.inv(array1)\n",
    "print(array2)\n",
    "print(np.dot(array1, array2))"
   ]
  },
  {
   "cell_type": "code",
   "execution_count": 21,
   "metadata": {},
   "outputs": [
    {
     "name": "stdout",
     "output_type": "stream",
     "text": [
      "特徵值： [13.  2.] 向量值 [[ 0.93632918 -0.70710678]\n",
      " [ 0.35112344  0.70710678]]\n"
     ]
    }
   ],
   "source": [
    "#2. 運用上列array計算特徵值、特徵向量?\n",
    "value = np.linalg.eig(array1)[0]\n",
    "vector = np.linalg.eig(array1)[1]\n",
    "print(\"特徵值：\", value, \"向量值\", vector)\n"
   ]
  },
  {
   "cell_type": "code",
   "execution_count": 22,
   "metadata": {},
   "outputs": [
    {
     "data": {
      "text/plain": [
       "2"
      ]
     },
     "execution_count": 22,
     "metadata": {},
     "output_type": "execute_result"
    }
   ],
   "source": [
    "#3. 運用上列array計算SVD? 矩陣秩\n",
    "np.linalg.matrix_rank(array1)"
   ]
  },
  {
   "cell_type": "code",
   "execution_count": null,
   "metadata": {},
   "outputs": [],
   "source": []
  }
 ],
 "metadata": {
  "kernelspec": {
   "display_name": "Python 3",
   "language": "python",
   "name": "python3"
  },
  "language_info": {
   "codemirror_mode": {
    "name": "ipython",
    "version": 3
   },
   "file_extension": ".py",
   "mimetype": "text/x-python",
   "name": "python",
   "nbconvert_exporter": "python",
   "pygments_lexer": "ipython3",
   "version": "3.8.3"
  }
 },
 "nbformat": 4,
 "nbformat_minor": 4
}
